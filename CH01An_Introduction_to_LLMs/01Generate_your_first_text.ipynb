{
 "cells": [
  {
   "cell_type": "code",
   "execution_count": 1,
   "id": "cfe08ed7",
   "metadata": {},
   "outputs": [
    {
     "name": "stdout",
     "output_type": "stream",
     "text": [
      "transformers: 4.55.4\n"
     ]
    }
   ],
   "source": [
    "from importlib.metadata import version\n",
    "\n",
    "## 当前代码需要用到的包\n",
    "pkgs = ['transformers']\n",
    "\n",
    "for pkg in pkgs:\n",
    "    print(f\"{pkg}:\", version(pkg))\n",
    "\n",
    "\n",
    "import os\n",
    "os.environ['HF_ENDPOINT'] = \"https://hf-mirror.com\"\n",
    "os.environ['TRANSFORMERS_CACHE'] = \"/root/autodl-tmp/LLMs/.cache/huggingface\"\n"
   ]
  },
  {
   "cell_type": "code",
   "execution_count": 3,
   "id": "f6f39f72",
   "metadata": {},
   "outputs": [
    {
     "data": {
      "application/vnd.jupyter.widget-view+json": {
       "model_id": "776c3badb06a419cbbf733f7a4d6ce11",
       "version_major": 2,
       "version_minor": 0
      },
      "text/plain": [
       "Loading checkpoint shards:   0%|          | 0/2 [00:00<?, ?it/s]"
      ]
     },
     "metadata": {},
     "output_type": "display_data"
    }
   ],
   "source": [
    "from transformers import AutoModelForCausalLM, AutoTokenizer\n",
    "\n",
    "# Load model and tokenizer\n",
    "model = AutoModelForCausalLM.from_pretrained(\n",
    "    \"microsoft/Phi-4-mini-instruct\",\n",
    "    device_map='cuda',\n",
    "    torch_dtype='auto',\n",
    "    trust_remote_code=False,\n",
    ")\n",
    "\n",
    "tokenizer = AutoTokenizer.from_pretrained('microsoft/Phi-4-mini-instruct')"
   ]
  },
  {
   "cell_type": "code",
   "execution_count": 11,
   "id": "fb077c54",
   "metadata": {},
   "outputs": [
    {
     "name": "stderr",
     "output_type": "stream",
     "text": [
      "Device set to use cuda\n",
      "The following generation flags are not valid and may be ignored: ['temperature']. Set `TRANSFORMERS_VERBOSITY=info` for more details.\n",
      "The following generation flags are not valid and may be ignored: ['temperature']. Set `TRANSFORMERS_VERBOSITY=info` for more details.\n"
     ]
    },
    {
     "name": "stdout",
     "output_type": "stream",
     "text": [
      "[{'generated_text': \"Why don't chickens play poker in the jungle? Too many pecking problems!\"}]\n",
      "Why don't chickens play poker in the jungle? Too many pecking problems!\n"
     ]
    }
   ],
   "source": [
    "from transformers import pipeline\n",
    "\n",
    "# create a pipeline\n",
    "generator = pipeline(\n",
    "    \"text-generation\",      # task\n",
    "    model=model,\n",
    "    tokenizer=tokenizer,\n",
    "    return_full_text=False, # prompt will not be returned, but only the output\n",
    "    max_new_tokens=500,     # the maximum number of tokens the model will generate\n",
    "    do_sample=False,        # [True] select the next most probable token\n",
    ")\n",
    "\n",
    "# the prompt\n",
    "messages = [\n",
    "    {\"role\": \"user\", \"content\": \"Create a funny joke about chickens.\"}\n",
    "]\n",
    "\n",
    "# generate output\n",
    "output = generator(messages)\n",
    "print(output)\n",
    "print(output[0]['generated_text'])"
   ]
  }
 ],
 "metadata": {
  "kernelspec": {
   "display_name": "base",
   "language": "python",
   "name": "python3"
  },
  "language_info": {
   "codemirror_mode": {
    "name": "ipython",
    "version": 3
   },
   "file_extension": ".py",
   "mimetype": "text/x-python",
   "name": "python",
   "nbconvert_exporter": "python",
   "pygments_lexer": "ipython3",
   "version": "3.12.3"
  }
 },
 "nbformat": 4,
 "nbformat_minor": 5
}
