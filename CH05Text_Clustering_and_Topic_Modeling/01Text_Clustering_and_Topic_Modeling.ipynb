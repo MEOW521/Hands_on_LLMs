{
 "cells": [
  {
   "cell_type": "code",
   "execution_count": 35,
   "id": "671763cf",
   "metadata": {},
   "outputs": [
    {
     "name": "stdout",
     "output_type": "stream",
     "text": [
      "datasets: 4.0.0\n",
      "sentence_transformers: 5.1.0\n",
      "umap-learn: 0.5.9.post2\n",
      "hdbscan: 0.8.40\n",
      "bertopic: 0.17.3\n"
     ]
    }
   ],
   "source": [
    "from importlib.metadata import version\n",
    "\n",
    "## 当前代码需要用到的包\n",
    "pkgs = ['datasets', 'sentence_transformers', 'umap-learn', 'hdbscan', 'bertopic']\n",
    "\n",
    "for pkg in pkgs:\n",
    "    print(f\"{pkg}:\", version(pkg))\n",
    "\n",
    "\n",
    "import os\n",
    "os.environ['HF_ENDPOINT'] = \"https://hf-mirror.com\"\n",
    "os.environ['TRANSFORMERS_CACHE'] = \"/root/autodl-tmp/LLMs/.cache/huggingface\"\n",
    "os.environ['HF_HOME'] = \"/root/autodl-tmp/LLMs/.cache/huggingface\"\n",
    "\n",
    "import subprocess\n",
    "\n",
    "result = subprocess.run('bash -c \"source /etc/network_turbo && env | grep proxy\"', shell=True, capture_output=True, text=True)\n",
    "output = result.stdout\n",
    "for line in output.splitlines():\n",
    "    if '=' in line:\n",
    "        var, value = line.split('=', 1)\n",
    "        os.environ[var] = value"
   ]
  },
  {
   "cell_type": "markdown",
   "id": "d1ff2fa0",
   "metadata": {},
   "source": [
    "# Load dataset and embedings"
   ]
  },
  {
   "cell_type": "code",
   "execution_count": 2,
   "id": "7ac26dbb",
   "metadata": {},
   "outputs": [],
   "source": [
    "# load dataset\n",
    "from datasets import load_dataset\n",
    "dataset = load_dataset(\"maartengr/arxiv_nlp\")['train']\n",
    "\n",
    "# Extract metadata\n",
    "abstracts = dataset['Abstracts']\n",
    "titles = dataset['Titles']"
   ]
  },
  {
   "cell_type": "code",
   "execution_count": 3,
   "id": "41a31768",
   "metadata": {},
   "outputs": [
    {
     "name": "stdout",
     "output_type": "stream",
     "text": [
      "Title: Introduction to Arabic Speech Recognition Using CMUSphinx System\n",
      "Abstract:   In this paper Arabic was investigated from the speech recognition problem\n",
      "point of view. We propose a novel approach to build an Arabic Automated Speech\n",
      "Recognition System (ASR). This system is based on the open source CMU Sphinx-4,\n",
      "from the Carnegie Mellon University. CMU Sphinx is a large-vocabulary;\n",
      "speaker-independent, continuous speech recognition system based on discrete\n",
      "Hidden Markov Models (HMMs). We build a model using utilities from the\n",
      "OpenSource CMU Sphinx. We will demonstrate the possible adaptability of this\n",
      "system to Arabic voice recognition.\n",
      "\n"
     ]
    }
   ],
   "source": [
    "print(f'Title: {titles[0]}')\n",
    "print(f'Abstract: {abstracts[0]}')"
   ]
  },
  {
   "cell_type": "code",
   "execution_count": 4,
   "id": "2ed64a89",
   "metadata": {},
   "outputs": [
    {
     "name": "stderr",
     "output_type": "stream",
     "text": [
      "/root/miniconda3/lib/python3.12/site-packages/transformers/utils/hub.py:111: FutureWarning: Using `TRANSFORMERS_CACHE` is deprecated and will be removed in v5 of Transformers. Use `HF_HOME` instead.\n",
      "  warnings.warn(\n"
     ]
    },
    {
     "data": {
      "application/vnd.jupyter.widget-view+json": {
       "model_id": "865b6dda177f4d4496b4db7a0b24557b",
       "version_major": 2,
       "version_minor": 0
      },
      "text/plain": [
       "Batches:   0%|          | 0/1405 [00:00<?, ?it/s]"
      ]
     },
     "metadata": {},
     "output_type": "display_data"
    },
    {
     "data": {
      "text/plain": [
       "(44949, 384)"
      ]
     },
     "execution_count": 4,
     "metadata": {},
     "output_type": "execute_result"
    }
   ],
   "source": [
    "from sentence_transformers import SentenceTransformer\n",
    "\n",
    "# create embeddings of abstracts\n",
    "embedding_model = SentenceTransformer(\"thenlper/gte-small\")\n",
    "embeddings = embedding_model.encode(abstracts, show_progress_bar=True)\n",
    "\n",
    "# show the dim of embeddings of abstracts\n",
    "embeddings.shape"
   ]
  },
  {
   "cell_type": "markdown",
   "id": "31980c0c",
   "metadata": {},
   "source": [
    "# Text Clustering"
   ]
  },
  {
   "cell_type": "markdown",
   "id": "9392bebe",
   "metadata": {},
   "source": [
    "## Reducing the Dimensionality of Embeddings"
   ]
  },
  {
   "cell_type": "code",
   "execution_count": 5,
   "id": "a18dfa0d",
   "metadata": {},
   "outputs": [
    {
     "name": "stderr",
     "output_type": "stream",
     "text": [
      "/root/miniconda3/lib/python3.12/site-packages/umap/umap_.py:1952: UserWarning: n_jobs value 1 overridden to 1 by setting random_state. Use no seed for parallelism.\n",
      "  warn(\n",
      "/root/miniconda3/lib/python3.12/site-packages/numba/np/ufunc/parallel.py:371: NumbaWarning: The TBB threading layer requires TBB version 2021 update 6 or later i.e., TBB_INTERFACE_VERSION >= 12060. Found TBB_INTERFACE_VERSION = 12050. The TBB threading layer is disabled.\n",
      "  warnings.warn(problem)\n"
     ]
    }
   ],
   "source": [
    "from umap import UMAP\n",
    "\n",
    "# reduce dim from 384 to 5\n",
    "umap_model = UMAP(\n",
    "    n_components=5, min_dist=0.0, metric='cosine', random_state=42\n",
    ")\n",
    "reduced_embeddings = umap_model.fit_transform(embeddings)"
   ]
  },
  {
   "cell_type": "code",
   "execution_count": 7,
   "id": "a931213e",
   "metadata": {},
   "outputs": [
    {
     "data": {
      "text/plain": [
       "(44949, 5)"
      ]
     },
     "execution_count": 7,
     "metadata": {},
     "output_type": "execute_result"
    }
   ],
   "source": [
    "reduced_embeddings.shape"
   ]
  },
  {
   "cell_type": "markdown",
   "id": "b4e1dac1",
   "metadata": {},
   "source": [
    "## Cluster the Reduced Embeddings"
   ]
  },
  {
   "cell_type": "code",
   "execution_count": 12,
   "id": "c5195c4b",
   "metadata": {},
   "outputs": [
    {
     "name": "stderr",
     "output_type": "stream",
     "text": [
      "/root/miniconda3/lib/python3.12/site-packages/sklearn/utils/deprecation.py:132: FutureWarning: 'force_all_finite' was renamed to 'ensure_all_finite' in 1.6 and will be removed in 1.8.\n",
      "  warnings.warn(\n",
      "/root/miniconda3/lib/python3.12/site-packages/sklearn/utils/deprecation.py:132: FutureWarning: 'force_all_finite' was renamed to 'ensure_all_finite' in 1.6 and will be removed in 1.8.\n",
      "  warnings.warn(\n"
     ]
    },
    {
     "name": "stdout",
     "output_type": "stream",
     "text": [
      "# of clusters: 155\n"
     ]
    }
   ],
   "source": [
    "from hdbscan import HDBSCAN\n",
    "\n",
    "# fit the model and extract the clusters\n",
    "hdbscan_model = HDBSCAN(\n",
    "    min_cluster_size=50, metric='euclidean', cluster_selection_method='eom'\n",
    ").fit(reduced_embeddings)\n",
    "clusters = hdbscan_model.labels_\n",
    "\n",
    "print(f'# of clusters: {len(set(clusters))}')"
   ]
  },
  {
   "cell_type": "markdown",
   "id": "f3983417",
   "metadata": {},
   "source": [
    "## Inspecting the Clusters"
   ]
  },
  {
   "cell_type": "code",
   "execution_count": 27,
   "id": "ebce7347",
   "metadata": {},
   "outputs": [
    {
     "name": "stdout",
     "output_type": "stream",
     "text": [
      "  This works aims to design a statistical machine translation from English text\n",
      "to American Sign Language (ASL). The system is based on Moses tool with some\n",
      "modifications and the results are synthesized through a 3D avatar for\n",
      "interpretation. First, we translate the input text to gloss, a written fo... \n",
      "\n",
      "  Researches on signed languages still strongly dissociate lin- guistic issues\n",
      "related on phonological and phonetic aspects, and gesture studies for\n",
      "recognition and synthesis purposes. This paper focuses on the imbrication of\n",
      "motion and meaning for the analysis, synthesis and evaluation of sign lang... \n",
      "\n",
      "  Modern computational linguistic software cannot produce important aspects of\n",
      "sign language translation. Using some researches we deduce that the majority of\n",
      "automatic sign language translation systems ignore many aspects when they\n",
      "generate animation; therefore the interpretation lost the truth inf... \n",
      "\n"
     ]
    }
   ],
   "source": [
    "import numpy as np\n",
    "\n",
    "cluster = 0\n",
    "for index in np.where(clusters==cluster)[0][:3]:\n",
    "    print(abstracts[int(index)][:300] + \"... \\n\")"
   ]
  },
  {
   "cell_type": "code",
   "execution_count": 29,
   "id": "f73a6c02",
   "metadata": {},
   "outputs": [
    {
     "name": "stderr",
     "output_type": "stream",
     "text": [
      "/root/miniconda3/lib/python3.12/site-packages/umap/umap_.py:1952: UserWarning: n_jobs value 1 overridden to 1 by setting random_state. Use no seed for parallelism.\n",
      "  warn(\n"
     ]
    }
   ],
   "source": [
    "import pandas as pd\n",
    "\n",
    "# continue reduce dim from 384 to 2\n",
    "reduced_embeddings = UMAP(\n",
    "    n_components=2, min_dist=0.0, metric='cosine', random_state=42\n",
    ").fit_transform(embeddings)\n",
    "\n",
    "# create dataframe\n",
    "df = pd.DataFrame(reduced_embeddings, columns=['x', 'y'])\n",
    "df['title'] = titles\n",
    "df['cluster'] = [str(c) for c in clusters]\n",
    "\n",
    "to_plots = df.loc[df.cluster != \"-1\", :]\n",
    "outliers = df.loc[df.cluster == \"-1\", :]"
   ]
  },
  {
   "cell_type": "code",
   "execution_count": 31,
   "id": "189a0a4d",
   "metadata": {},
   "outputs": [
    {
     "data": {
      "text/html": [
       "<div>\n",
       "<style scoped>\n",
       "    .dataframe tbody tr th:only-of-type {\n",
       "        vertical-align: middle;\n",
       "    }\n",
       "\n",
       "    .dataframe tbody tr th {\n",
       "        vertical-align: top;\n",
       "    }\n",
       "\n",
       "    .dataframe thead th {\n",
       "        text-align: right;\n",
       "    }\n",
       "</style>\n",
       "<table border=\"1\" class=\"dataframe\">\n",
       "  <thead>\n",
       "    <tr style=\"text-align: right;\">\n",
       "      <th></th>\n",
       "      <th>x</th>\n",
       "      <th>y</th>\n",
       "      <th>title</th>\n",
       "      <th>cluster</th>\n",
       "    </tr>\n",
       "  </thead>\n",
       "  <tbody>\n",
       "    <tr>\n",
       "      <th>4</th>\n",
       "      <td>4.513205</td>\n",
       "      <td>2.437404</td>\n",
       "      <td>Segmentation and Context of Literary and Music...</td>\n",
       "      <td>85</td>\n",
       "    </tr>\n",
       "    <tr>\n",
       "      <th>5</th>\n",
       "      <td>3.366080</td>\n",
       "      <td>0.421517</td>\n",
       "      <td>International Standard for a Linguistic Annota...</td>\n",
       "      <td>97</td>\n",
       "    </tr>\n",
       "    <tr>\n",
       "      <th>6</th>\n",
       "      <td>3.342744</td>\n",
       "      <td>0.499340</td>\n",
       "      <td>A Formal Model of Dictionary Structure and Con...</td>\n",
       "      <td>97</td>\n",
       "    </tr>\n",
       "    <tr>\n",
       "      <th>8</th>\n",
       "      <td>3.254276</td>\n",
       "      <td>1.290046</td>\n",
       "      <td>Learning Probabilistic Models of Word Sense Di...</td>\n",
       "      <td>101</td>\n",
       "    </tr>\n",
       "    <tr>\n",
       "      <th>11</th>\n",
       "      <td>-1.310467</td>\n",
       "      <td>-0.201164</td>\n",
       "      <td>Bio-linguistic transition and Baldwin effect i...</td>\n",
       "      <td>90</td>\n",
       "    </tr>\n",
       "  </tbody>\n",
       "</table>\n",
       "</div>"
      ],
      "text/plain": [
       "           x         y                                              title  \\\n",
       "4   4.513205  2.437404  Segmentation and Context of Literary and Music...   \n",
       "5   3.366080  0.421517  International Standard for a Linguistic Annota...   \n",
       "6   3.342744  0.499340  A Formal Model of Dictionary Structure and Con...   \n",
       "8   3.254276  1.290046  Learning Probabilistic Models of Word Sense Di...   \n",
       "11 -1.310467 -0.201164  Bio-linguistic transition and Baldwin effect i...   \n",
       "\n",
       "   cluster  \n",
       "4       85  \n",
       "5       97  \n",
       "6       97  \n",
       "8      101  \n",
       "11      90  "
      ]
     },
     "execution_count": 31,
     "metadata": {},
     "output_type": "execute_result"
    }
   ],
   "source": [
    "to_plots.head()"
   ]
  },
  {
   "cell_type": "code",
   "execution_count": 34,
   "id": "1a0fcee0",
   "metadata": {},
   "outputs": [
    {
     "data": {
      "image/png": "[encoded data removed]",
      "text/plain": [
       "<Figure size 640x480 with 1 Axes>"
      ]
     },
     "metadata": {},
     "output_type": "display_data"
    }
   ],
   "source": [
    "import matplotlib.pyplot as plt\n",
    "\n",
    "plt.scatter(outliers.x, outliers.y, alpha=0.5, s=2, c='grey')\n",
    "plt.scatter(to_plots.x, to_plots.y, c=to_plots.cluster.astype(int), alpha=0.6, s=2, cmap='tab20b')\n",
    "plt.axis(\"off\")\n",
    "plt.show()"
   ]
  },
  {
   "cell_type": "markdown",
   "id": "a9e9e37c",
   "metadata": {},
   "source": [
    "# Topic Modeling"
   ]
  },
  {
   "cell_type": "markdown",
   "id": "fa0fd832",
   "metadata": {},
   "source": [
    "### Using BERTopic"
   ]
  },
  {
   "cell_type": "code",
   "execution_count": 36,
   "id": "c98cf644",
   "metadata": {},
   "outputs": [
    {
     "name": "stderr",
     "output_type": "stream",
     "text": [
      "2025-08-27 22:10:29,548 - BERTopic - Dimensionality - Fitting the dimensionality reduction algorithm\n",
      "2025-08-27 22:11:20,206 - BERTopic - Dimensionality - Completed ✓\n",
      "2025-08-27 22:11:20,211 - BERTopic - Cluster - Start clustering the reduced embeddings\n",
      "2025-08-27 22:11:22,756 - BERTopic - Cluster - Completed ✓\n",
      "2025-08-27 22:11:22,772 - BERTopic - Representation - Fine-tuning topics using representation models.\n",
      "2025-08-27 22:11:26,608 - BERTopic - Representation - Completed ✓\n"
     ]
    }
   ],
   "source": [
    "from bertopic import BERTopic\n",
    "\n",
    "# train the model with previously defined models\n",
    "topic_model = BERTopic(\n",
    "    embedding_model=embedding_model,\n",
    "    umap_model=umap_model,\n",
    "    hdbscan_model=hdbscan_model,\n",
    "    verbose=True\n",
    ").fit(abstracts, embeddings)"
   ]
  },
  {
   "cell_type": "code",
   "execution_count": 37,
   "id": "e4c75f51",
   "metadata": {},
   "outputs": [
    {
     "data": {
      "text/html": [
       "<div>\n",
       "<style scoped>\n",
       "    .dataframe tbody tr th:only-of-type {\n",
       "        vertical-align: middle;\n",
       "    }\n",
       "\n",
       "    .dataframe tbody tr th {\n",
       "        vertical-align: top;\n",
       "    }\n",
       "\n",
       "    .dataframe thead th {\n",
       "        text-align: right;\n",
       "    }\n",
       "</style>\n",
       "<table border=\"1\" class=\"dataframe\">\n",
       "  <thead>\n",
       "    <tr style=\"text-align: right;\">\n",
       "      <th></th>\n",
       "      <th>Topic</th>\n",
       "      <th>Count</th>\n",
       "      <th>Name</th>\n",
       "      <th>Representation</th>\n",
       "      <th>Representative_Docs</th>\n",
       "    </tr>\n",
       "  </thead>\n",
       "  <tbody>\n",
       "    <tr>\n",
       "      <th>0</th>\n",
       "      <td>-1</td>\n",
       "      <td>14210</td>\n",
       "      <td>-1_of_the_and_to</td>\n",
       "      <td>[of, the, and, to, in, we, language, for, that...</td>\n",
       "      <td>[  GPT-$3$ has attracted lots of attention due...</td>\n",
       "    </tr>\n",
       "    <tr>\n",
       "      <th>1</th>\n",
       "      <td>0</td>\n",
       "      <td>2316</td>\n",
       "      <td>0_speech_asr_recognition_end</td>\n",
       "      <td>[speech, asr, recognition, end, acoustic, spea...</td>\n",
       "      <td>[  The speech chain mechanism integrates autom...</td>\n",
       "    </tr>\n",
       "    <tr>\n",
       "      <th>2</th>\n",
       "      <td>1</td>\n",
       "      <td>2183</td>\n",
       "      <td>1_question_qa_questions_answer</td>\n",
       "      <td>[question, qa, questions, answer, answering, a...</td>\n",
       "      <td>[  Text-based Question Generation (QG) aims at...</td>\n",
       "    </tr>\n",
       "    <tr>\n",
       "      <th>3</th>\n",
       "      <td>2</td>\n",
       "      <td>941</td>\n",
       "      <td>2_translation_nmt_machine_bleu</td>\n",
       "      <td>[translation, nmt, machine, bleu, neural, engl...</td>\n",
       "      <td>[  Recently, the development of neural machine...</td>\n",
       "    </tr>\n",
       "    <tr>\n",
       "      <th>4</th>\n",
       "      <td>3</td>\n",
       "      <td>880</td>\n",
       "      <td>3_summarization_summaries_summary_abstractive</td>\n",
       "      <td>[summarization, summaries, summary, abstractiv...</td>\n",
       "      <td>[  Sentence summarization shortens given texts...</td>\n",
       "    </tr>\n",
       "    <tr>\n",
       "      <th>...</th>\n",
       "      <td>...</td>\n",
       "      <td>...</td>\n",
       "      <td>...</td>\n",
       "      <td>...</td>\n",
       "      <td>...</td>\n",
       "    </tr>\n",
       "    <tr>\n",
       "      <th>150</th>\n",
       "      <td>149</td>\n",
       "      <td>54</td>\n",
       "      <td>149_sentence_embeddings_sts_embedding</td>\n",
       "      <td>[sentence, embeddings, sts, embedding, similar...</td>\n",
       "      <td>[  Sentence representation at the semantic lev...</td>\n",
       "    </tr>\n",
       "    <tr>\n",
       "      <th>151</th>\n",
       "      <td>150</td>\n",
       "      <td>54</td>\n",
       "      <td>150_gans_gan_adversarial_generation</td>\n",
       "      <td>[gans, gan, adversarial, generation, generativ...</td>\n",
       "      <td>[  Text generation is of particular interest i...</td>\n",
       "    </tr>\n",
       "    <tr>\n",
       "      <th>152</th>\n",
       "      <td>151</td>\n",
       "      <td>54</td>\n",
       "      <td>151_coherence_discourse_paragraph_text</td>\n",
       "      <td>[coherence, discourse, paragraph, text, cohesi...</td>\n",
       "      <td>[  While there has been significant progress t...</td>\n",
       "    </tr>\n",
       "    <tr>\n",
       "      <th>153</th>\n",
       "      <td>152</td>\n",
       "      <td>53</td>\n",
       "      <td>152_chatgpt_its_openai_tasks</td>\n",
       "      <td>[chatgpt, its, openai, tasks, has, ai, capabil...</td>\n",
       "      <td>[  Over the last few years, large language mod...</td>\n",
       "    </tr>\n",
       "    <tr>\n",
       "      <th>154</th>\n",
       "      <td>153</td>\n",
       "      <td>52</td>\n",
       "      <td>153_opinion_reviews_summaries_summarization</td>\n",
       "      <td>[opinion, reviews, summaries, summarization, r...</td>\n",
       "      <td>[  When faced with a large number of product r...</td>\n",
       "    </tr>\n",
       "  </tbody>\n",
       "</table>\n",
       "<p>155 rows × 5 columns</p>\n",
       "</div>"
      ],
      "text/plain": [
       "     Topic  Count                                           Name  \\\n",
       "0       -1  14210                               -1_of_the_and_to   \n",
       "1        0   2316                   0_speech_asr_recognition_end   \n",
       "2        1   2183                 1_question_qa_questions_answer   \n",
       "3        2    941                 2_translation_nmt_machine_bleu   \n",
       "4        3    880  3_summarization_summaries_summary_abstractive   \n",
       "..     ...    ...                                            ...   \n",
       "150    149     54          149_sentence_embeddings_sts_embedding   \n",
       "151    150     54            150_gans_gan_adversarial_generation   \n",
       "152    151     54         151_coherence_discourse_paragraph_text   \n",
       "153    152     53                   152_chatgpt_its_openai_tasks   \n",
       "154    153     52    153_opinion_reviews_summaries_summarization   \n",
       "\n",
       "                                        Representation  \\\n",
       "0    [of, the, and, to, in, we, language, for, that...   \n",
       "1    [speech, asr, recognition, end, acoustic, spea...   \n",
       "2    [question, qa, questions, answer, answering, a...   \n",
       "3    [translation, nmt, machine, bleu, neural, engl...   \n",
       "4    [summarization, summaries, summary, abstractiv...   \n",
       "..                                                 ...   \n",
       "150  [sentence, embeddings, sts, embedding, similar...   \n",
       "151  [gans, gan, adversarial, generation, generativ...   \n",
       "152  [coherence, discourse, paragraph, text, cohesi...   \n",
       "153  [chatgpt, its, openai, tasks, has, ai, capabil...   \n",
       "154  [opinion, reviews, summaries, summarization, r...   \n",
       "\n",
       "                                   Representative_Docs  \n",
       "0    [  GPT-$3$ has attracted lots of attention due...  \n",
       "1    [  The speech chain mechanism integrates autom...  \n",
       "2    [  Text-based Question Generation (QG) aims at...  \n",
       "3    [  Recently, the development of neural machine...  \n",
       "4    [  Sentence summarization shortens given texts...  \n",
       "..                                                 ...  \n",
       "150  [  Sentence representation at the semantic lev...  \n",
       "151  [  Text generation is of particular interest i...  \n",
       "152  [  While there has been significant progress t...  \n",
       "153  [  Over the last few years, large language mod...  \n",
       "154  [  When faced with a large number of product r...  \n",
       "\n",
       "[155 rows x 5 columns]"
      ]
     },
     "execution_count": 37,
     "metadata": {},
     "output_type": "execute_result"
    }
   ],
   "source": [
    "topic_model.get_topic_info()"
   ]
  },
  {
   "cell_type": "code",
   "execution_count": 38,
   "id": "6ed3849c",
   "metadata": {},
   "outputs": [
    {
     "data": {
      "text/plain": [
       "[('speech', np.float64(0.028208883288593535)),\n",
       " ('asr', np.float64(0.018842312810416793)),\n",
       " ('recognition', np.float64(0.01351959051292077)),\n",
       " ('end', np.float64(0.009745990895354896)),\n",
       " ('acoustic', np.float64(0.009384710004108402)),\n",
       " ('speaker', np.float64(0.006877359138616964)),\n",
       " ('audio', np.float64(0.006785262733110495)),\n",
       " ('the', np.float64(0.006370412745274845)),\n",
       " ('error', np.float64(0.00634287314665723)),\n",
       " ('automatic', np.float64(0.0063065026437668335))]"
      ]
     },
     "execution_count": 38,
     "metadata": {},
     "output_type": "execute_result"
    }
   ],
   "source": [
    "topic_model.get_topic(0)"
   ]
  },
  {
   "cell_type": "code",
   "execution_count": 39,
   "id": "f90a73cf",
   "metadata": {},
   "outputs": [
    {
     "data": {
      "text/plain": [
       "([24, -1, 38, 32, 84],\n",
       " [np.float32(0.9545274),\n",
       "  np.float32(0.9123676),\n",
       "  np.float32(0.9080541),\n",
       "  np.float32(0.9053283),\n",
       "  np.float32(0.90453553)])"
      ]
     },
     "execution_count": 39,
     "metadata": {},
     "output_type": "execute_result"
    }
   ],
   "source": [
    "topic_model.find_topics(\"topic modeling\")"
   ]
  },
  {
   "cell_type": "code",
   "execution_count": 41,
   "id": "3782f63a",
   "metadata": {},
   "outputs": [
    {
     "data": {
      "text/plain": [
       "[('topic', np.float64(0.06811153301756999)),\n",
       " ('topics', np.float64(0.035746717561104396)),\n",
       " ('lda', np.float64(0.016020062969070364)),\n",
       " ('latent', np.float64(0.013574936227317968)),\n",
       " ('documents', np.float64(0.013201698266173009)),\n",
       " ('document', np.float64(0.012912590658853182)),\n",
       " ('modeling', np.float64(0.012084716289729468)),\n",
       " ('dirichlet', np.float64(0.01010281253111858)),\n",
       " ('word', np.float64(0.008653858081603273)),\n",
       " ('allocation', np.float64(0.007950503995528465))]"
      ]
     },
     "execution_count": 41,
     "metadata": {},
     "output_type": "execute_result"
    }
   ],
   "source": [
    "topic_model.get_topic(24)"
   ]
  },
  {
   "cell_type": "markdown",
   "id": "94e0b449",
   "metadata": {},
   "source": [
    "### Adding a Special Lego Block"
   ]
  },
  {
   "cell_type": "code",
   "execution_count": 47,
   "id": "4fa23881",
   "metadata": {},
   "outputs": [],
   "source": [
    "def topic_differences(model, original_topics, nr_topics=5):\n",
    "    df = pd.DataFrame(columns=['Topic', 'Original', 'Updated'])\n",
    "    for topic in range(nr_topics):\n",
    "        og_words = \" | \".join(list(zip(*original_topics[topic]))[0][:5])\n",
    "        new_words = \" | \".join(list(zip(*model.get_topic(topic)))[0][:5])\n",
    "        df.loc[len(df)] = [topic, og_words, new_words]\n",
    "    return df"
   ]
  },
  {
   "cell_type": "code",
   "execution_count": 49,
   "id": "c07a71dc",
   "metadata": {},
   "outputs": [],
   "source": [
    "from copy import deepcopy\n",
    "original_topics = deepcopy(topic_model.topic_representations_)"
   ]
  },
  {
   "cell_type": "markdown",
   "id": "14eb2b7d",
   "metadata": {},
   "source": [
    "#### KeyBERTInspired"
   ]
  },
  {
   "cell_type": "code",
   "execution_count": 50,
   "id": "835d15fe",
   "metadata": {},
   "outputs": [
    {
     "data": {
      "text/html": [
       "<div>\n",
       "<style scoped>\n",
       "    .dataframe tbody tr th:only-of-type {\n",
       "        vertical-align: middle;\n",
       "    }\n",
       "\n",
       "    .dataframe tbody tr th {\n",
       "        vertical-align: top;\n",
       "    }\n",
       "\n",
       "    .dataframe thead th {\n",
       "        text-align: right;\n",
       "    }\n",
       "</style>\n",
       "<table border=\"1\" class=\"dataframe\">\n",
       "  <thead>\n",
       "    <tr style=\"text-align: right;\">\n",
       "      <th></th>\n",
       "      <th>Topic</th>\n",
       "      <th>Original</th>\n",
       "      <th>Updated</th>\n",
       "    </tr>\n",
       "  </thead>\n",
       "  <tbody>\n",
       "    <tr>\n",
       "      <th>0</th>\n",
       "      <td>0</td>\n",
       "      <td>phonetic | encoder | transcription | speech | ...</td>\n",
       "      <td>phonetic | encoder | transcription | speech | ...</td>\n",
       "    </tr>\n",
       "    <tr>\n",
       "      <th>1</th>\n",
       "      <td>1</td>\n",
       "      <td>answering | comprehension | questions | questi...</td>\n",
       "      <td>answering | comprehension | questions | questi...</td>\n",
       "    </tr>\n",
       "    <tr>\n",
       "      <th>2</th>\n",
       "      <td>2</td>\n",
       "      <td>translation | translate | translations | trans...</td>\n",
       "      <td>translation | translate | translations | trans...</td>\n",
       "    </tr>\n",
       "    <tr>\n",
       "      <th>3</th>\n",
       "      <td>3</td>\n",
       "      <td>summarization | summarizers | summaries | summ...</td>\n",
       "      <td>summarization | summarizers | summaries | summ...</td>\n",
       "    </tr>\n",
       "    <tr>\n",
       "      <th>4</th>\n",
       "      <td>4</td>\n",
       "      <td>hate | hateful | language | offensive | languages</td>\n",
       "      <td>hate | hateful | language | offensive | languages</td>\n",
       "    </tr>\n",
       "  </tbody>\n",
       "</table>\n",
       "</div>"
      ],
      "text/plain": [
       "   Topic                                           Original  \\\n",
       "0      0  phonetic | encoder | transcription | speech | ...   \n",
       "1      1  answering | comprehension | questions | questi...   \n",
       "2      2  translation | translate | translations | trans...   \n",
       "3      3  summarization | summarizers | summaries | summ...   \n",
       "4      4  hate | hateful | language | offensive | languages   \n",
       "\n",
       "                                             Updated  \n",
       "0  phonetic | encoder | transcription | speech | ...  \n",
       "1  answering | comprehension | questions | questi...  \n",
       "2  translation | translate | translations | trans...  \n",
       "3  summarization | summarizers | summaries | summ...  \n",
       "4  hate | hateful | language | offensive | languages  "
      ]
     },
     "execution_count": 50,
     "metadata": {},
     "output_type": "execute_result"
    }
   ],
   "source": [
    "from bertopic.representation import KeyBERTInspired\n",
    "\n",
    "representation_model = KeyBERTInspired()\n",
    "topic_model.update_topics(abstracts, representation_model=representation_model)\n",
    "\n",
    "topic_differences(topic_model, original_topics)"
   ]
  },
  {
   "cell_type": "markdown",
   "id": "a36a97a4",
   "metadata": {},
   "source": [
    "#### MaximalMarginalRelevance(MMR)"
   ]
  },
  {
   "cell_type": "code",
   "execution_count": 52,
   "id": "c14e2f50",
   "metadata": {},
   "outputs": [
    {
     "data": {
      "text/html": [
       "<div>\n",
       "<style scoped>\n",
       "    .dataframe tbody tr th:only-of-type {\n",
       "        vertical-align: middle;\n",
       "    }\n",
       "\n",
       "    .dataframe tbody tr th {\n",
       "        vertical-align: top;\n",
       "    }\n",
       "\n",
       "    .dataframe thead th {\n",
       "        text-align: right;\n",
       "    }\n",
       "</style>\n",
       "<table border=\"1\" class=\"dataframe\">\n",
       "  <thead>\n",
       "    <tr style=\"text-align: right;\">\n",
       "      <th></th>\n",
       "      <th>Topic</th>\n",
       "      <th>Original</th>\n",
       "      <th>Updated</th>\n",
       "    </tr>\n",
       "  </thead>\n",
       "  <tbody>\n",
       "    <tr>\n",
       "      <th>0</th>\n",
       "      <td>0</td>\n",
       "      <td>phonetic | encoder | transcription | speech | ...</td>\n",
       "      <td>speech | asr | audio | error | automatic</td>\n",
       "    </tr>\n",
       "    <tr>\n",
       "      <th>1</th>\n",
       "      <td>1</td>\n",
       "      <td>answering | comprehension | questions | questi...</td>\n",
       "      <td>questions | retrieval | comprehension | passag...</td>\n",
       "    </tr>\n",
       "    <tr>\n",
       "      <th>2</th>\n",
       "      <td>2</td>\n",
       "      <td>translation | translate | translations | trans...</td>\n",
       "      <td>translation | nmt | bleu | neural | parallel</td>\n",
       "    </tr>\n",
       "    <tr>\n",
       "      <th>3</th>\n",
       "      <td>3</td>\n",
       "      <td>summarization | summarizers | summaries | summ...</td>\n",
       "      <td>summarization | summaries | extractive | docum...</td>\n",
       "    </tr>\n",
       "    <tr>\n",
       "      <th>4</th>\n",
       "      <td>4</td>\n",
       "      <td>hate | hateful | language | offensive | languages</td>\n",
       "      <td>hate | offensive | toxic | abusive | hateful</td>\n",
       "    </tr>\n",
       "  </tbody>\n",
       "</table>\n",
       "</div>"
      ],
      "text/plain": [
       "   Topic                                           Original  \\\n",
       "0      0  phonetic | encoder | transcription | speech | ...   \n",
       "1      1  answering | comprehension | questions | questi...   \n",
       "2      2  translation | translate | translations | trans...   \n",
       "3      3  summarization | summarizers | summaries | summ...   \n",
       "4      4  hate | hateful | language | offensive | languages   \n",
       "\n",
       "                                             Updated  \n",
       "0           speech | asr | audio | error | automatic  \n",
       "1  questions | retrieval | comprehension | passag...  \n",
       "2       translation | nmt | bleu | neural | parallel  \n",
       "3  summarization | summaries | extractive | docum...  \n",
       "4       hate | offensive | toxic | abusive | hateful  "
      ]
     },
     "execution_count": 52,
     "metadata": {},
     "output_type": "execute_result"
    }
   ],
   "source": [
    "from bertopic.representation import MaximalMarginalRelevance\n",
    "\n",
    "representation_model = MaximalMarginalRelevance(diversity=0.2)\n",
    "topic_model.update_topics(abstracts, representation_model=representation_model)\n",
    "\n",
    "topic_differences(topic_model, original_topics)"
   ]
  },
  {
   "cell_type": "markdown",
   "id": "d8221f30",
   "metadata": {},
   "source": [
    "#### LLM"
   ]
  },
  {
   "cell_type": "code",
   "execution_count": 53,
   "id": "5ddd4e94",
   "metadata": {},
   "outputs": [
    {
     "name": "stderr",
     "output_type": "stream",
     "text": [
      "Device set to use cuda:0\n",
      "  6%|▋         | 10/155 [00:01<00:20,  7.18it/s]You seem to be using the pipelines sequentially on GPU. In order to maximize efficiency please use a dataset\n",
      "100%|██████████| 155/155 [00:52<00:00,  2.94it/s]\n"
     ]
    },
    {
     "data": {
      "text/html": [
       "<div>\n",
       "<style scoped>\n",
       "    .dataframe tbody tr th:only-of-type {\n",
       "        vertical-align: middle;\n",
       "    }\n",
       "\n",
       "    .dataframe tbody tr th {\n",
       "        vertical-align: top;\n",
       "    }\n",
       "\n",
       "    .dataframe thead th {\n",
       "        text-align: right;\n",
       "    }\n",
       "</style>\n",
       "<table border=\"1\" class=\"dataframe\">\n",
       "  <thead>\n",
       "    <tr style=\"text-align: right;\">\n",
       "      <th></th>\n",
       "      <th>Topic</th>\n",
       "      <th>Original</th>\n",
       "      <th>Updated</th>\n",
       "    </tr>\n",
       "  </thead>\n",
       "  <tbody>\n",
       "    <tr>\n",
       "      <th>0</th>\n",
       "      <td>0</td>\n",
       "      <td>phonetic | encoder | transcription | speech | ...</td>\n",
       "      <td>Speech-to-speech synthesis |  |  |  |</td>\n",
       "    </tr>\n",
       "    <tr>\n",
       "      <th>1</th>\n",
       "      <td>1</td>\n",
       "      <td>answering | comprehension | questions | questi...</td>\n",
       "      <td>Question answering systems |  |  |  |</td>\n",
       "    </tr>\n",
       "    <tr>\n",
       "      <th>2</th>\n",
       "      <td>2</td>\n",
       "      <td>translation | translate | translations | trans...</td>\n",
       "      <td>Science/Tech |  |  |  |</td>\n",
       "    </tr>\n",
       "    <tr>\n",
       "      <th>3</th>\n",
       "      <td>3</td>\n",
       "      <td>summarization | summarizers | summaries | summ...</td>\n",
       "      <td>Document summarization |  |  |  |</td>\n",
       "    </tr>\n",
       "    <tr>\n",
       "      <th>4</th>\n",
       "      <td>4</td>\n",
       "      <td>hate | hateful | language | offensive | languages</td>\n",
       "      <td>Science/Tech |  |  |  |</td>\n",
       "    </tr>\n",
       "  </tbody>\n",
       "</table>\n",
       "</div>"
      ],
      "text/plain": [
       "   Topic                                           Original  \\\n",
       "0      0  phonetic | encoder | transcription | speech | ...   \n",
       "1      1  answering | comprehension | questions | questi...   \n",
       "2      2  translation | translate | translations | trans...   \n",
       "3      3  summarization | summarizers | summaries | summ...   \n",
       "4      4  hate | hateful | language | offensive | languages   \n",
       "\n",
       "                                  Updated  \n",
       "0  Speech-to-speech synthesis |  |  |  |   \n",
       "1  Question answering systems |  |  |  |   \n",
       "2                Science/Tech |  |  |  |   \n",
       "3      Document summarization |  |  |  |   \n",
       "4                Science/Tech |  |  |  |   "
      ]
     },
     "execution_count": 53,
     "metadata": {},
     "output_type": "execute_result"
    }
   ],
   "source": [
    "from transformers import pipeline\n",
    "from bertopic.representation import TextGeneration\n",
    "\n",
    "prompt = \"\"\"I have a topic that contains the following documents: \n",
    "[DOCUMENTS]\n",
    "\n",
    "The topic is described by the following keywords: '[KEYWORDS]'. \n",
    "\n",
    "Based on the documents and keywords, what is this topic about?\"\"\"\n",
    "\n",
    "generator = pipeline(\"text2text-generation\", model='google/flan-t5-small')\n",
    "representation_model = TextGeneration(\n",
    "    generator, prompt=prompt, doc_length=50, tokenizer='whitespace'\n",
    ")\n",
    "topic_model.update_topics(abstracts, representation_model=representation_model)\n",
    "\n",
    "topic_differences(topic_model, original_topics)"
   ]
  }
 ],
 "metadata": {
  "kernelspec": {
   "display_name": "base",
   "language": "python",
   "name": "python3"
  },
  "language_info": {
   "codemirror_mode": {
    "name": "ipython",
    "version": 3
   },
   "file_extension": ".py",
   "mimetype": "text/x-python",
   "name": "python",
   "nbconvert_exporter": "python",
   "pygments_lexer": "ipython3",
   "version": "3.12.3"
  }
 },
 "nbformat": 4,
 "nbformat_minor": 5
}
